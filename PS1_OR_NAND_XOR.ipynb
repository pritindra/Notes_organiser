{
 "cells": [
  {
   "cell_type": "code",
   "execution_count": 20,
   "metadata": {},
   "outputs": [],
   "source": [
    "# Using the NOT gate (expressed as x in Qiskit), the CNOT gate (expressed as cx in Qiskit) and the Toffoli gate \n",
    "# (expressed as ccx in Qiskit) create functions to implement the \n",
    "# XOR, AND, NAND and OR gates.\n",
    "\n",
    "from qiskit import *\n",
    "from qiskit.tools.visualization import plot_histogram\n",
    "import numpy as np\n",
    "\n",
    "def XOR(input1,input2):\n",
    "    \n",
    "    q = QuantumRegister(2) # two qubits in which to encode and manipulate the input\n",
    "    c = ClassicalRegister(1) # a bit to store the output\n",
    "    qc = QuantumCircuit(q, c) # this is where the quantum program goes\n",
    "    \n",
    "    if input1!=input2:\n",
    "        qc.x( q[1] )\n",
    "     \n",
    "    qc.measure(q[1],c[0]) \n",
    "    \n",
    "    backend = Aer.get_backend('qasm_simulator')\n",
    "    # Since the output will be deterministic, we can use just a single shot to get it\n",
    "    job = execute(qc,backend,shots=1,memory=True)\n",
    "    output = job.result().get_memory()[0]\n",
    "    \n",
    "    return output"
   ]
  },
  {
   "cell_type": "code",
   "execution_count": 18,
   "metadata": {},
   "outputs": [],
   "source": [
    "def NAND(input1,input2):\n",
    "    \n",
    "    q = QuantumRegister(3) # two qubits in which to encode and manipulate the input\n",
    "    c = ClassicalRegister(1) # a bit to store the output\n",
    "    qc = QuantumCircuit(q, c) # this is where the quantum program goes\n",
    "    \n",
    "    if input1!='1' or input2!='1':\n",
    "        qc.x(q[1])\n",
    "     \n",
    "    qc.measure(q[1],c[0]) \n",
    "    \n",
    "    backend = Aer.get_backend('qasm_simulator')\n",
    "    # Since the output will be deterministic, we can use just a single shot to get it\n",
    "    job = execute(qc,backend,shots=1,memory=True)\n",
    "    output = job.result().get_memory()[0]\n",
    "    \n",
    "    return output"
   ]
  },
  {
   "cell_type": "code",
   "execution_count": 8,
   "metadata": {},
   "outputs": [],
   "source": [
    "def OR(input1,input2):\n",
    "    \n",
    "    q = QuantumRegister(3) # two qubits in which to encode and manipulate the input\n",
    "    c = ClassicalRegister(1) # a bit to store the output\n",
    "    qc = QuantumCircuit(q, c) # this is where the quantum program goes\n",
    "    \n",
    "    if input1=='1' or input2=='1':\n",
    "        qc.x(q[1])\n",
    "     \n",
    "    qc.measure(q[1],c[0]) \n",
    "    \n",
    "    backend = Aer.get_backend('qasm_simulator')\n",
    "    # Since the output will be deterministic, we can use just a single shot to get it\n",
    "    job = execute(qc,backend,shots=1,memory=True)\n",
    "    output = job.result().get_memory()[0]\n",
    "    \n",
    "    return output"
   ]
  },
  {
   "cell_type": "code",
   "execution_count": 21,
   "metadata": {},
   "outputs": [
    {
     "name": "stdout",
     "output_type": "stream",
     "text": [
      "\n",
      "Results for the XOR gate\n",
      "    Inputs 0 0 give output 0\n",
      "    Inputs 0 1 give output 1\n",
      "    Inputs 1 0 give output 1\n",
      "    Inputs 1 1 give output 0\n",
      "\n",
      "Results for the NAND gate\n",
      "    Inputs 0 0 give output 1\n",
      "    Inputs 0 1 give output 1\n",
      "    Inputs 1 0 give output 1\n",
      "    Inputs 1 1 give output 0\n",
      "\n",
      "Results for the OR gate\n",
      "    Inputs 0 0 give output 0\n",
      "    Inputs 0 1 give output 1\n",
      "    Inputs 1 0 give output 1\n",
      "    Inputs 1 1 give output 1\n"
     ]
    }
   ],
   "source": [
    "print('\\nResults for the XOR gate')\n",
    "for input1 in ['0','1']:\n",
    "    for input2 in ['0','1']:\n",
    "        print('    Inputs',input1,input2,'give output',XOR(input1,input2))\n",
    "\n",
    "print('\\nResults for the NAND gate')\n",
    "for input1 in ['0','1']:\n",
    "    for input2 in ['0','1']:\n",
    "        print('    Inputs',input1,input2,'give output',NAND(input1,input2))\n",
    "\n",
    "print('\\nResults for the OR gate')\n",
    "for input1 in ['0','1']:\n",
    "    for input2 in ['0','1']:\n",
    "        print('    Inputs',input1,input2,'give output',OR(input1,input2))"
   ]
  }
 ],
 "metadata": {
  "kernelspec": {
   "display_name": "Python 3",
   "language": "python",
   "name": "python3"
  },
  "language_info": {
   "codemirror_mode": {
    "name": "ipython",
    "version": 3
   },
   "file_extension": ".py",
   "mimetype": "text/x-python",
   "name": "python",
   "nbconvert_exporter": "python",
   "pygments_lexer": "ipython3",
   "version": "3.6.9"
  }
 },
 "nbformat": 4,
 "nbformat_minor": 4
}
